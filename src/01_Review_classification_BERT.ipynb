{
  "nbformat": 4,
  "nbformat_minor": 0,
  "metadata": {
    "kernelspec": {
      "display_name": "Python 3",
      "language": "python",
      "name": "python3"
    },
    "language_info": {
      "codemirror_mode": {
        "name": "ipython",
        "version": 3
      },
      "file_extension": ".py",
      "mimetype": "text/x-python",
      "name": "python",
      "nbconvert_exporter": "python",
      "pygments_lexer": "ipython3",
      "version": "3.5.2"
    },
    "colab": {
      "name": "01-Review-classification-BERT.ipynb",
      "provenance": []
    },
    "accelerator": "GPU"
  },
  "cells": [
    {
      "cell_type": "markdown",
      "metadata": {
        "id": "D2G72AoRPWf_"
      },
      "source": [
        "# Travel agency's reviews - classification with BERT\n",
        "\n",
        "Implement and evaluate a classifier of user reviews with BERT."
      ]
    },
    {
      "cell_type": "code",
      "metadata": {
        "id": "UMvNNQdV5BDM"
      },
      "source": [
        "!pip install transformers"
      ],
      "execution_count": null,
      "outputs": []
    },
    {
      "cell_type": "code",
      "metadata": {
        "id": "h1FP7beWPWgE",
        "outputId": "9f274ca1-ee75-4527-e415-475f4a779c03",
        "colab": {
          "base_uri": "https://localhost:8080/",
          "height": 359
        }
      },
      "source": [
        "import pandas as pd\n",
        "\n",
        "reviews = pd.read_csv('https://raw.githubusercontent.com/mlcollege/natural-language-processing/master/data/en_reviews.csv', sep='\\t', header=None, names =['rating', 'text'])\n",
        "reviews[35:45]"
      ],
      "execution_count": 2,
      "outputs": [
        {
          "output_type": "execute_result",
          "data": {
            "text/html": [
              "<div>\n",
              "<style scoped>\n",
              "    .dataframe tbody tr th:only-of-type {\n",
              "        vertical-align: middle;\n",
              "    }\n",
              "\n",
              "    .dataframe tbody tr th {\n",
              "        vertical-align: top;\n",
              "    }\n",
              "\n",
              "    .dataframe thead th {\n",
              "        text-align: right;\n",
              "    }\n",
              "</style>\n",
              "<table border=\"1\" class=\"dataframe\">\n",
              "  <thead>\n",
              "    <tr style=\"text-align: right;\">\n",
              "      <th></th>\n",
              "      <th>rating</th>\n",
              "      <th>text</th>\n",
              "    </tr>\n",
              "  </thead>\n",
              "  <tbody>\n",
              "    <tr>\n",
              "      <th>35</th>\n",
              "      <td>5</td>\n",
              "      <td>I bought the cheapest tickets through this ser...</td>\n",
              "    </tr>\n",
              "    <tr>\n",
              "      <th>36</th>\n",
              "      <td>5</td>\n",
              "      <td>Such a pleasure to know that you will be prope...</td>\n",
              "    </tr>\n",
              "    <tr>\n",
              "      <th>37</th>\n",
              "      <td>5</td>\n",
              "      <td>I always use this website to look for flights ...</td>\n",
              "    </tr>\n",
              "    <tr>\n",
              "      <th>38</th>\n",
              "      <td>2</td>\n",
              "      <td>A startup that finds discount flight tickets '...</td>\n",
              "    </tr>\n",
              "    <tr>\n",
              "      <th>39</th>\n",
              "      <td>5</td>\n",
              "      <td>Excellent customer service, fast and kind. Wan...</td>\n",
              "    </tr>\n",
              "    <tr>\n",
              "      <th>40</th>\n",
              "      <td>4</td>\n",
              "      <td>very good service from Quan Costa to help me w...</td>\n",
              "    </tr>\n",
              "    <tr>\n",
              "      <th>41</th>\n",
              "      <td>3</td>\n",
              "      <td>.@Skypickercom Finds Cheap Flights 'Hidden' On...</td>\n",
              "    </tr>\n",
              "    <tr>\n",
              "      <th>42</th>\n",
              "      <td>5</td>\n",
              "      <td>I have a problem with my tickets skypicker don...</td>\n",
              "    </tr>\n",
              "    <tr>\n",
              "      <th>43</th>\n",
              "      <td>4</td>\n",
              "      <td>Even though it took a bit time untill an agent...</td>\n",
              "    </tr>\n",
              "    <tr>\n",
              "      <th>44</th>\n",
              "      <td>5</td>\n",
              "      <td>Today I had a great experience with one of Kiw...</td>\n",
              "    </tr>\n",
              "  </tbody>\n",
              "</table>\n",
              "</div>"
            ],
            "text/plain": [
              "    rating                                               text\n",
              "35       5  I bought the cheapest tickets through this ser...\n",
              "36       5  Such a pleasure to know that you will be prope...\n",
              "37       5  I always use this website to look for flights ...\n",
              "38       2  A startup that finds discount flight tickets '...\n",
              "39       5  Excellent customer service, fast and kind. Wan...\n",
              "40       4  very good service from Quan Costa to help me w...\n",
              "41       3  .@Skypickercom Finds Cheap Flights 'Hidden' On...\n",
              "42       5  I have a problem with my tickets skypicker don...\n",
              "43       4  Even though it took a bit time untill an agent...\n",
              "44       5  Today I had a great experience with one of Kiw..."
            ]
          },
          "metadata": {
            "tags": []
          },
          "execution_count": 2
        }
      ]
    },
    {
      "cell_type": "markdown",
      "metadata": {
        "id": "bSN587NSPWgN"
      },
      "source": [
        "## Preparation of train and test data sets\n",
        "Separate and rename target values."
      ]
    },
    {
      "cell_type": "code",
      "metadata": {
        "id": "duhdXlx4PWhT",
        "outputId": "c46ed9b7-7569-4721-8807-7c748ac875de",
        "colab": {
          "base_uri": "https://localhost:8080/",
          "height": 221
        }
      },
      "source": [
        "target = reviews['rating']\n",
        "data = reviews['text']\n",
        "\n",
        "print(data[:5])\n",
        "print(target[:5])"
      ],
      "execution_count": 3,
      "outputs": [
        {
          "output_type": "stream",
          "text": [
            "0    A voucher to nowhere #skypickerfail 2400 out o...\n",
            "1    I booked with Kiwi for the first time, just a ...\n",
            "2    I would like to say THANKS YOU for your custom...\n",
            "3    I just noticed 2 hours before my flight that I...\n",
            "4    This is the first time I have dealt with Skypi...\n",
            "Name: text, dtype: object\n",
            "0    2\n",
            "1    5\n",
            "2    5\n",
            "3    5\n",
            "4    2\n",
            "Name: rating, dtype: int64\n"
          ],
          "name": "stdout"
        }
      ]
    },
    {
      "cell_type": "markdown",
      "metadata": {
        "id": "-a2lU0UiX-zc"
      },
      "source": [
        "Import the BERT model and tokenizer"
      ]
    },
    {
      "cell_type": "code",
      "metadata": {
        "id": "aRUQWLcQX90M"
      },
      "source": [
        "from transformers import BertTokenizer, TFBertForSequenceClassification"
      ],
      "execution_count": 4,
      "outputs": []
    },
    {
      "cell_type": "code",
      "metadata": {
        "id": "yDVh-XgC43ig"
      },
      "source": [
        "bert_tokenizer = BertTokenizer.from_pretrained(\"bert-base-uncased\")\n",
        "bert_model = TFBertForSequenceClassification.from_pretrained('bert-base-uncased',num_labels=5)"
      ],
      "execution_count": null,
      "outputs": []
    },
    {
      "cell_type": "markdown",
      "metadata": {
        "id": "l75NGHcPdPPO"
      },
      "source": [
        "Split the data to train and test parts."
      ]
    },
    {
      "cell_type": "code",
      "metadata": {
        "id": "Q26njNEM43zJ",
        "outputId": "31d4fd7a-d7bc-4b39-aa1a-3025331c014c",
        "colab": {
          "base_uri": "https://localhost:8080/",
          "height": 51
        }
      },
      "source": [
        "from sklearn.model_selection import train_test_split\n",
        "\n",
        "X_train, X_test, y_train, y_test = train_test_split(data, target, test_size=0.1)\n",
        "print('Train size: {}'.format(len(X_train)))\n",
        "print('Test size: {}'.format(len(X_test)))"
      ],
      "execution_count": 6,
      "outputs": [
        {
          "output_type": "stream",
          "text": [
            "Train size: 7013\n",
            "Test size: 780\n"
          ],
          "name": "stdout"
        }
      ]
    },
    {
      "cell_type": "markdown",
      "metadata": {
        "id": "-3c1mVpZdsyC"
      },
      "source": [
        "Tokenize the documents and create attention masks."
      ]
    },
    {
      "cell_type": "code",
      "metadata": {
        "id": "nOksVWVa44BY"
      },
      "source": [
        "import numpy as np\n",
        "\n",
        "train_ids=[]\n",
        "train_masks=[]\n",
        "test_ids=[]\n",
        "test_masks=[]\n",
        "\n",
        "\n",
        "for doc in X_train:\n",
        "    bert_inp = bert_tokenizer.encode_plus(doc, add_special_tokens = True, pad_to_max_length = True, max_length = 64, return_attention_mask = True)\n",
        "    train_ids.append(np.array(bert_inp['input_ids']))\n",
        "    train_masks.append(np.array(bert_inp['attention_mask']))\n",
        "\n",
        "for doc in X_test:\n",
        "    bert_inp = bert_tokenizer.encode_plus(doc, add_special_tokens = True, pad_to_max_length = True, max_length = 64, return_attention_mask = True)\n",
        "    test_ids.append(np.array(bert_inp['input_ids']))\n",
        "    test_masks.append(np.array(bert_inp['attention_mask']))\n",
        "\n",
        "train_ids = np.asarray(train_ids)\n",
        "train_masks = np.asarray(train_masks)\n",
        "test_ids = np.asarray(test_ids)\n",
        "test_masks = np.asarray(test_masks)\n",
        "\n",
        "print (train_ids.shape)\n",
        "print (test_ids.shape)"
      ],
      "execution_count": null,
      "outputs": []
    },
    {
      "cell_type": "markdown",
      "metadata": {
        "id": "MYi7wxDkd-tp"
      },
      "source": [
        "One-hot encode the target values."
      ]
    },
    {
      "cell_type": "code",
      "metadata": {
        "id": "jKNCMIf_eC7o"
      },
      "source": [
        "from tensorflow.python.keras.utils import np_utils\n",
        "\n",
        "n_classes = 5\n",
        "y_train = np_utils.to_categorical(y_train-1, n_classes)\n",
        "y_test = np_utils.to_categorical(y_test-1, n_classes)"
      ],
      "execution_count": 8,
      "outputs": []
    },
    {
      "cell_type": "markdown",
      "metadata": {
        "id": "ACOhafchep75"
      },
      "source": [
        "Compile the model."
      ]
    },
    {
      "cell_type": "code",
      "metadata": {
        "id": "OeVba9Zl44Ov"
      },
      "source": [
        "import tensorflow as tf\n",
        "\n",
        "loss = tf.keras.losses.CategoricalCrossentropy(from_logits=True)\n",
        "optimizer = tf.keras.optimizers.Adam(learning_rate=2e-5, epsilon=1e-08)\n",
        "bert_model.compile(loss=loss,optimizer=optimizer,metrics=[\"accuracy\"])"
      ],
      "execution_count": 9,
      "outputs": []
    },
    {
      "cell_type": "code",
      "metadata": {
        "id": "rpB2shP6aRfv",
        "outputId": "ffa3ee86-8c8b-4738-c5f5-59ae6925e208",
        "colab": {
          "base_uri": "https://localhost:8080/",
          "height": 136
        }
      },
      "source": [
        "bert_model.fit([train_ids, train_masks], y_train, batch_size=32, epochs=3, validation_data=([test_ids, test_masks], y_test))"
      ],
      "execution_count": 10,
      "outputs": [
        {
          "output_type": "stream",
          "text": [
            "Epoch 1/3\n",
            "220/220 [==============================] - 181s 820ms/step - loss: 0.7645 - accuracy: 0.7476 - val_loss: 0.5897 - val_accuracy: 0.8013\n",
            "Epoch 2/3\n",
            "220/220 [==============================] - 177s 807ms/step - loss: 0.5573 - accuracy: 0.8136 - val_loss: 0.5412 - val_accuracy: 0.8192\n",
            "Epoch 3/3\n",
            "220/220 [==============================] - 177s 805ms/step - loss: 0.4552 - accuracy: 0.8439 - val_loss: 0.5701 - val_accuracy: 0.8141\n"
          ],
          "name": "stdout"
        },
        {
          "output_type": "execute_result",
          "data": {
            "text/plain": [
              "<tensorflow.python.keras.callbacks.History at 0x7fbf8abc4eb8>"
            ]
          },
          "metadata": {
            "tags": []
          },
          "execution_count": 10
        }
      ]
    },
    {
      "cell_type": "markdown",
      "metadata": {
        "id": "w6lPhMbPiTXj"
      },
      "source": [
        "## Evaluate the model"
      ]
    },
    {
      "cell_type": "code",
      "metadata": {
        "id": "bcMCFzp8aR5V",
        "outputId": "3174c819-b8b7-4b6e-ac4d-427e850bed66",
        "colab": {
          "base_uri": "https://localhost:8080/",
          "height": 255
        }
      },
      "source": [
        "from sklearn import metrics\n",
        "from sklearn.metrics import accuracy_score\n",
        "\n",
        "y_pred = bert_model.predict([test_ids, test_masks])\n",
        "y_test_class = np.argmax(y_test, axis=1)\n",
        "y_pred_class = np.argmax(y_pred[0], axis=1)\n",
        "\n",
        "print (\"Test accuracy: {:.4f}\".format(accuracy_score(y_test_class, y_pred_class)))\n",
        "print ()\n",
        "print(metrics.classification_report(y_test_class, y_pred_class, digits=4))"
      ],
      "execution_count": 11,
      "outputs": [
        {
          "output_type": "stream",
          "text": [
            "Test accuracy: 0.8141\n",
            "\n",
            "              precision    recall  f1-score   support\n",
            "\n",
            "           0     0.8036    0.8036    0.8036        56\n",
            "           1     0.7778    0.5385    0.6364        26\n",
            "           2     0.6757    0.7353    0.7042        34\n",
            "           3     0.4118    0.1308    0.1986       107\n",
            "           4     0.8457    0.9641    0.9010       557\n",
            "\n",
            "    accuracy                         0.8141       780\n",
            "   macro avg     0.7029    0.6345    0.6487       780\n",
            "weighted avg     0.7735    0.8141    0.7803       780\n",
            "\n"
          ],
          "name": "stdout"
        }
      ]
    }
  ]
}
